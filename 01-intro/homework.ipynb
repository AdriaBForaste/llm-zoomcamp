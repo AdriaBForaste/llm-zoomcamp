{
 "cells": [
  {
   "cell_type": "code",
   "execution_count": 1,
   "id": "16331703-d9f5-467e-aa88-4008cbc2236a",
   "metadata": {},
   "outputs": [],
   "source": [
    "import openai"
   ]
  },
  {
   "cell_type": "code",
   "execution_count": 2,
   "id": "4a88019f-d848-4872-8142-da3b38155e11",
   "metadata": {},
   "outputs": [],
   "source": [
    "from openai import OpenAI"
   ]
  },
  {
   "cell_type": "code",
   "execution_count": 3,
   "id": "12663501-2372-4ea2-9203-233eef405c71",
   "metadata": {},
   "outputs": [],
   "source": [
    "client = OpenAI(api_key=\"MY_API_KEY\" )"
   ]
  },
  {
   "cell_type": "code",
   "execution_count": 9,
   "id": "2cd36e82-ed18-49b6-935d-1b13d983e055",
   "metadata": {},
   "outputs": [],
   "source": [
    "response = client.chat.completions.create(\n",
    "    model=\"gpt-4o-mini\",\n",
    "    messages=[{\"role\":\"user\", \"content\": \"is it too late to join the course?\"}]\n",
    ")"
   ]
  },
  {
   "cell_type": "code",
   "execution_count": 10,
   "id": "126bf504-27cd-4fc2-adcd-94d974535b63",
   "metadata": {},
   "outputs": [
    {
     "data": {
      "text/plain": [
       "\"To provide a proper answer, I would need more context about which course you're referring to. Generally, deadlines for joining courses vary by institution and course type. It’s best to check with the specific course provider or institution directly. If you provide me with more details, I might be able to give more tailored advice!\""
      ]
     },
     "execution_count": 10,
     "metadata": {},
     "output_type": "execute_result"
    }
   ],
   "source": [
    "response.choices[0].message.content"
   ]
  }
 ],
 "metadata": {
  "kernelspec": {
   "display_name": "Python 3 (ipykernel)",
   "language": "python",
   "name": "python3"
  },
  "language_info": {
   "codemirror_mode": {
    "name": "ipython",
    "version": 3
   },
   "file_extension": ".py",
   "mimetype": "text/x-python",
   "name": "python",
   "nbconvert_exporter": "python",
   "pygments_lexer": "ipython3",
   "version": "3.12.1"
  }
 },
 "nbformat": 4,
 "nbformat_minor": 5
}
